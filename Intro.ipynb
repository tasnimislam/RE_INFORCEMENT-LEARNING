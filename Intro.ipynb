{
 "cells": [
  {
   "cell_type": "markdown",
   "metadata": {},
   "source": [
    "Ref: https://www.youtube.com/watch?v=yMk_XtIEzH8&list=PLQVvvaa0QuDezJFIOU5wDdfy4e9vdnx-7\n",
    "https://www.youtube.com/watch?v=Gq1Azv_B4-4&list=PLQVvvaa0QuDezJFIOU5wDdfy4e9vdnx-7&index=2\n",
    "https://code.visualstudio.com/docs/python/jupyter-support\n"
   ]
  },
  {
   "cell_type": "code",
   "execution_count": 82,
   "metadata": {
    "tags": []
   },
   "outputs": [
    {
     "output_type": "stream",
     "name": "stdout",
     "text": "Requirement already satisfied: gym in c:\\users\\manami\\anaconda3\\lib\\site-packages (0.17.2)\nRequirement already satisfied: scipy in c:\\users\\manami\\anaconda3\\lib\\site-packages (from gym) (1.4.1)\nRequirement already satisfied: cloudpickle<1.4.0,>=1.2.0 in c:\\users\\manami\\anaconda3\\lib\\site-packages (from gym) (1.3.0)\nRequirement already satisfied: numpy>=1.10.4 in c:\\users\\manami\\anaconda3\\lib\\site-packages (from gym) (1.18.1)\nRequirement already satisfied: pyglet<=1.5.0,>=1.4.0 in c:\\users\\manami\\anaconda3\\lib\\site-packages (from gym) (1.5.0)\nRequirement already satisfied: future in c:\\users\\manami\\anaconda3\\lib\\site-packages (from pyglet<=1.5.0,>=1.4.0->gym) (0.18.2)\n"
    }
   ],
   "source": [
    "!pip  install gym"
   ]
  },
  {
   "cell_type": "code",
   "execution_count": 83,
   "metadata": {},
   "outputs": [],
   "source": [
    "import gym\n",
    "import numpy as np"
   ]
  },
  {
   "cell_type": "code",
   "execution_count": 84,
   "metadata": {
    "tags": []
   },
   "outputs": [
    {
     "output_type": "stream",
     "name": "stdout",
     "text": "[-4.41486396e-01  3.93227311e-04]\n-1.0\n[-0.4407028   0.00078359]\n-1.0\n[-0.43953454  0.00116826]\n-1.0\n[-0.4379901   0.00154444]\n-1.0\n[-0.43608068  0.00190941]\n-1.0\n[-0.43382014  0.00226054]\n-1.0\n[-0.43122483  0.00259531]\n-1.0\n[-0.42831348  0.00291134]\n-1.0\n[-0.42510709  0.0032064 ]\n-1.0\n[-0.42162868  0.00347841]\n-1.0\n[-0.41790317  0.00372551]\n-1.0\n[-0.41395716  0.00394601]\n-1.0\n[-0.40981872  0.00413844]\n-1.0\n[-0.40551715  0.00430157]\n-1.0\n[-0.40108279  0.00443436]\n-1.0\n[-0.39654675  0.00453604]\n-1.0\n[-0.39194069  0.00460606]\n-1.0\n[-0.38729659  0.0046441 ]\n-1.0\n[-0.38264651  0.00465008]\n-1.0\n[-0.37802235  0.00462416]\n-1.0\n[-0.37345563  0.00456672]\n-1.0\n[-0.3689773   0.00447834]\n-1.0\n[-0.36461748  0.00435982]\n-1.0\n[-0.36040533  0.00421215]\n-1.0\n[-0.35636882  0.00403651]\n-1.0\n[-0.35253457  0.00383424]\n-1.0\n[-0.34892773  0.00360684]\n-1.0\n[-0.34557179  0.00335594]\n-1.0\n[-0.34248847  0.00308332]\n-1.0\n[-0.33969763  0.00279084]\n-1.0\n[-0.33721713  0.0024805 ]\n-1.0\n[-0.33506279  0.00215434]\n-1.0\n[-0.33324827  0.00181452]\n-1.0\n[-0.33178504  0.00146323]\n-1.0\n[-0.33068233  0.00110271]\n-1.0\n[-0.32994706  0.00073527]\n-1.0\n[-0.32958384  0.00036321]\n-1.0\n[-3.29594961e-01 -1.11187246e-05]\n-1.0\n[-0.32998034 -0.00038538]\n-1.0\n[-0.33073757 -0.00075723]\n-1.0\n[-0.3318619  -0.00112433]\n-1.0\n[-0.33334625 -0.00148436]\n-1.0\n[-0.33518128 -0.00183503]\n-1.0\n[-0.33735539 -0.0021741 ]\n-1.0\n[-0.33985476 -0.00249938]\n-1.0\n[-0.34266348 -0.00280872]\n-1.0\n[-0.34576355 -0.00310007]\n-1.0\n[-0.34913501 -0.00337146]\n-1.0\n[-0.35275602 -0.00362101]\n-1.0\n[-0.35660299 -0.00384696]\n-1.0\n[-0.36065068 -0.00404769]\n-1.0\n[-0.36487239 -0.00422171]\n-1.0\n[-0.36924007 -0.00436768]\n-1.0\n[-0.3737245  -0.00448443]\n-1.0\n[-0.3782955 -0.004571 ]\n-1.0\n[-0.38292208 -0.00462658]\n-1.0\n[-0.3875727  -0.00465062]\n-1.0\n[-0.39221543 -0.00464273]\n-1.0\n[-0.39681822 -0.00460279]\n-1.0\n[-0.40134911 -0.00453089]\n-1.0\n[-0.40577645 -0.00442734]\n-1.0\n[-0.41006918 -0.00429272]\n-1.0\n[-0.41419701 -0.00412783]\n-1.0\n[-0.4181307  -0.00393369]\n-1.0\n[-0.42184227 -0.00371157]\n-1.0\n[-0.42530521 -0.00346294]\n-1.0\n[-0.42849472 -0.00318951]\n-1.0\n[-0.43138787 -0.00289315]\n-1.0\n[-0.43396382 -0.00257595]\n-1.0\n[-0.43620395 -0.00224014]\n-1.0\n[-0.43809207 -0.00188811]\n-1.0\n[-0.43961447 -0.0015224 ]\n-1.0\n[-0.44076011 -0.00114564]\n-1.0\n[-0.44152067 -0.00076056]\n-1.0\n[-4.41890614e-01 -3.69941419e-04]\n-1.0\n[-4.41867248e-01  2.33658525e-05]\n-1.0\n[-4.41450745e-01  4.16503120e-04]\n-1.0\n[-0.44064413  0.00080661]\n-1.0\n[-0.43945328  0.00119085]\n-1.0\n[-0.43788684  0.00156644]\n-1.0\n[-0.43595617  0.00193066]\n-1.0\n[-0.43367528  0.00228089]\n-1.0\n[-0.43106067  0.00261462]\n-1.0\n[-0.4281312   0.00292946]\n-1.0\n[-0.424908   0.0032232]\n-1.0\n[-0.42141421  0.00349379]\n-1.0\n[-0.41767486  0.00373935]\n-1.0\n[-0.41371664  0.00395823]\n-1.0\n[-0.40956768  0.00414895]\n-1.0\n[-0.40525738  0.0043103 ]\n-1.0\n[-0.40081611  0.00444127]\n-1.0\n[-0.39627502  0.00454108]\n-1.0\n[-0.39166581  0.00460921]\n-1.0\n[-0.38702047  0.00464535]\n-1.0\n[-0.38237104  0.00464943]\n-1.0\n[-0.37774941  0.00462163]\n-1.0\n[-0.37318708  0.00456233]\n-1.0\n[-0.36871495  0.00447213]\n-1.0\n[-0.36436309  0.00435186]\n-1.0\n[-0.36016059  0.0042025 ]\n-1.0\n[-0.35613536  0.00402524]\n-1.0\n[-0.35231392  0.00382143]\n-1.0\n[-0.34872133  0.00359259]\n-1.0\n[-0.34538098  0.00334035]\n-1.0\n[-0.34231449  0.0030665 ]\n-1.0\n[-0.33954158  0.0027729 ]\n-1.0\n[-0.33708002  0.00246156]\n-1.0\n[-0.33494549  0.00213453]\n-1.0\n[-0.33315152  0.00179397]\n-1.0\n[-0.33170945  0.00144207]\n-1.0\n[-0.33062838  0.00108108]\n-1.0\n[-0.32991508  0.0007133 ]\n-1.0\n[-0.32957404  0.00034104]\n-1.0\n[-3.29607399e-01 -3.33559283e-05]\n-1.0\n[-0.33001494 -0.00040754]\n-1.0\n[-0.33079411 -0.00077917]\n-1.0\n[-0.33194003 -0.00114591]\n-1.0\n[-0.33344548 -0.00150545]\n-1.0\n[-0.33530098 -0.0018555 ]\n-1.0\n[-0.33749479 -0.00219381]\n-1.0\n[-0.34001299 -0.0025182 ]\n-1.0\n[-0.34283952 -0.00282653]\n-1.0\n[-0.34595628 -0.00311675]\n-1.0\n[-0.34934317 -0.0033869 ]\n-1.0\n[-0.35297827 -0.00363509]\n-1.0\n[-0.35683787 -0.0038596 ]\n-1.0\n[-0.36089665 -0.00405878]\n-1.0\n[-0.36512782 -0.00423117]\n-1.0\n[-0.36950325 -0.00437543]\n-1.0\n[-0.37399367 -0.00449042]\n-1.0\n[-0.37856883 -0.00457517]\n-1.0\n[-0.38319773 -0.0046289 ]\n-1.0\n[-0.38784878 -0.00465104]\n-1.0\n[-0.39249003 -0.00464126]\n-1.0\n[-0.39708945 -0.00459941]\n-1.0\n[-0.40161507 -0.00452562]\n-1.0\n[-0.40603528 -0.00442021]\n-1.0\n[-0.41031906 -0.00428377]\n-1.0\n[-0.41443617 -0.00411711]\n-1.0\n[-0.41835744 -0.00392128]\n-1.0\n[-0.42205498 -0.00369754]\n-1.0\n[-0.42550237 -0.00344739]\n-1.0\n[-0.42867491 -0.00317254]\n-1.0\n[-0.4315498  -0.00287489]\n-1.0\n[-0.43410631 -0.00255651]\n-1.0\n[-0.43632599 -0.00221967]\n-1.0\n[-0.43819275 -0.00186677]\n-1.0\n[-0.43969308 -0.00150033]\n-1.0\n[-0.44081607 -0.00112299]\n-1.0\n[-0.44155357 -0.0007375 ]\n-1.0\n[-4.41900217e-01 -3.46646041e-04]\n-1.0\n[-4.41853486e-01  4.67311057e-05]\n-1.0\n[-4.41413718e-01  4.39768250e-04]\n-1.0\n[-0.44058411  0.00082961]\n-1.0\n[-0.4393707   0.00121341]\n-1.0\n[-0.4377823  0.0015884]\n-1.0\n[-0.43583043  0.00195187]\n-1.0\n[-0.43352925  0.00230118]\n-1.0\n[-0.4308954   0.00263385]\n-1.0\n[-0.42794789  0.0029475 ]\n-1.0\n[-0.42470796  0.00323993]\n-1.0\n[-0.42119889  0.00350908]\n-1.0\n[-0.41744578  0.0037531 ]\n-1.0\n[-0.41347544  0.00397034]\n-1.0\n[-0.40931608  0.00415936]\n-1.0\n[-0.40499715  0.00431893]\n-1.0\n[-0.40054907  0.00444807]\n-1.0\n[-0.39600306  0.00454602]\n-1.0\n[-0.39139081  0.00461225]\n-1.0\n[-0.38674433  0.00464648]\n-1.0\n[-0.38209566  0.00464867]\n-1.0\n[-0.37747668  0.00461898]\n-1.0\n[-0.37291885  0.00455783]\n-1.0\n[-0.36845302  0.00446583]\n-1.0\n[-0.36410923  0.00434379]\n-1.0\n[-0.35991648  0.00419274]\n-1.0\n[-0.35590261  0.00401387]\n-1.0\n[-0.35209408  0.00380854]\n-1.0\n[-0.34851582  0.00357826]\n-1.0\n[-0.34519114  0.00332468]\n-1.0\n[-0.34214154  0.0030496 ]\n-1.0\n[-0.33938664  0.0027549 ]\n-1.0\n[-0.33694407  0.00244257]\n-1.0\n[-0.33482939  0.00211468]\n-1.0\n[-0.33305601  0.00177338]\n-1.0\n[-0.33163514  0.00142087]\n-1.0\n[-0.33057572  0.00105942]\n-1.0\n[-0.32988442  0.0006913 ]\n-1.0\n[-3.29565562e-01  3.18855098e-04]\n-1.0\n[-3.29621155e-01 -5.55923957e-05]\n-1.0\n[-0.33005085 -0.00042969]\n-1.0\n[-0.33085194 -0.0008011 ]\n-1.0\n[-0.33201942 -0.00116748]\n-1.0\n[-0.33354593 -0.00152651]\n-1.0\n[-0.33542186 -0.00187593]\n-1.0\n[-0.33763534 -0.00221348]\n-1.0\n[-0.3401723  -0.00253697]\n-1.0\n[-0.34301659 -0.00284428]\n-1.0\n[-0.34614995 -0.00313337]\n-1.0\n[-0.34955221 -0.00340226]\n-1.0\n"
    }
   ],
   "source": [
    "env = gym.make(\"MountainCar-v0\")\n",
    "#three action it can take\n",
    "\n",
    "env.reset()\n",
    "done = False\n",
    "\n",
    "while not done:\n",
    "    action = 2\n",
    "    new_state, reward, done, _ =env.step(action)\n",
    "    #when we initialize with q values its random values\n",
    "    #agent will explore a lot\n",
    "    print(new_state)\n",
    "    print(reward)\n",
    "    #reward always -1, reaches the flag = 0\n",
    "    \n",
    "    #new_state = state sensing from the environment - ex: pos, vel in this case\n",
    "    env.render(mode = \"ipython\") #show it\n",
    "  \n",
    "#action 0: do nothing\n",
    "#action 1: push the car left\n",
    "#action 2: push the car right\n",
    "env.close()\n"
   ]
  },
  {
   "cell_type": "markdown",
   "metadata": {},
   "source": [
    "Many random values for new_state, we will not include all the numbers in the Q table\n",
    "So we will convert these continuous values to discrete values"
   ]
  },
  {
   "cell_type": "markdown",
   "metadata": {},
   "source": [
    "# Build the Q table"
   ]
  },
  {
   "cell_type": "code",
   "execution_count": 85,
   "metadata": {
    "tags": []
   },
   "outputs": [
    {
     "output_type": "stream",
     "name": "stdout",
     "text": "[0.6  0.07]\n[-1.2  -0.07]\n3\n"
    }
   ],
   "source": [
    "print(env.observation_space.high)\n",
    "print(env.observation_space.low)\n",
    "print(env.action_space.n)\n"
   ]
  },
  {
   "cell_type": "markdown",
   "metadata": {},
   "source": [
    "Sometimes we don't know the values, so we have to work randomly then"
   ]
  },
  {
   "cell_type": "code",
   "execution_count": 86,
   "metadata": {
    "tags": []
   },
   "outputs": [
    {
     "output_type": "stream",
     "name": "stdout",
     "text": "[20, 20]\n"
    }
   ],
   "source": [
    "#managable size for Q-table, size changes according to env\n",
    "DISCRETE_OS_SIZE = [20]*len(env.observation_space.high)\n",
    "print(DISCRESTE_OS_SIZE)"
   ]
  },
  {
   "cell_type": "code",
   "execution_count": 87,
   "metadata": {
    "tags": []
   },
   "outputs": [
    {
     "output_type": "stream",
     "name": "stdout",
     "text": "[0.09  0.007]\n"
    }
   ],
   "source": [
    "discrete_os_win_size = (env.observation_space.high - env.observation_space.low)/DISCRESTE_OS_SIZE\n",
    "print(discrete_os_win_size)"
   ]
  },
  {
   "cell_type": "code",
   "execution_count": 88,
   "metadata": {
    "tags": []
   },
   "outputs": [
    {
     "output_type": "stream",
     "name": "stdout",
     "text": "(20, 20, 3)\n"
    }
   ],
   "source": [
    "q_table = np.random.uniform(low = 2, high = 0, size = (DISCRETE_OS_SIZE + [env.action_space.n]))\n",
    "#every possible combo*3 - random values, later will be optimized\n",
    "print(q_table.shape)"
   ]
  },
  {
   "cell_type": "code",
   "execution_count": 89,
   "metadata": {},
   "outputs": [],
   "source": [
    "LEARNING_RATE = 0.1 #0-1\n",
    "DISCOUNT = 0.95 #WEIGHT - MEASURE OF IMPORTANCE OF FUTURE ACTIONS OVER CURRENT ACTIONS\n",
    "EPISODES = 25000\n"
   ]
  },
  {
   "cell_type": "code",
   "execution_count": 90,
   "metadata": {},
   "outputs": [],
   "source": [
    "def get_discrete_state(state):\n",
    "    discrete_state = (state - env.observation_space.low) / discrete_os_win_size\n",
    "    return tuple(discrete_state.astype(np.int))"
   ]
  },
  {
   "cell_type": "code",
   "execution_count": 91,
   "metadata": {
    "tags": []
   },
   "outputs": [
    {
     "output_type": "stream",
     "name": "stdout",
     "text": "(8, 10)\n"
    }
   ],
   "source": [
    "discrete_state = get_discrete_state(env.reset())\n",
    "#reset gives the initial value of state\n",
    "print(discrete_state)"
   ]
  },
  {
   "cell_type": "code",
   "execution_count": 92,
   "metadata": {
    "tags": []
   },
   "outputs": [
    {
     "output_type": "stream",
     "name": "stdout",
     "text": "[0.06661234 0.15727543 0.92576308]\n"
    }
   ],
   "source": [
    "print(q_table[discrete_state])"
   ]
  },
  {
   "cell_type": "code",
   "execution_count": 93,
   "metadata": {
    "tags": []
   },
   "outputs": [
    {
     "output_type": "stream",
     "name": "stdout",
     "text": "2\n"
    }
   ],
   "source": [
    "#if we want to check the highest value of the action\n",
    "print(np.argmax(q_table[discrete_state]))\n"
   ]
  },
  {
   "cell_type": "markdown",
   "metadata": {},
   "source": [
    "In this case the returned index is 0, so action no 0"
   ]
  },
  {
   "cell_type": "code",
   "execution_count": 94,
   "metadata": {},
   "outputs": [],
   "source": [
    "SHOW_EVERY = 2000"
   ]
  },
  {
   "cell_type": "code",
   "execution_count": 95,
   "metadata": {},
   "outputs": [],
   "source": [
    "done = False\n",
    "for episode in range(EPISODES):\n",
    "    if episode %SHOW_EVERY == 0:\n",
    "        render = True\n",
    "    else:\n",
    "        render = False\n",
    "\n",
    "    while not done:\n",
    "        action = np.argmax(q_table[discrete_state])\n",
    "        new_state, reward, done, _ =env.step(action)\n",
    "        new_discrete_state = get_discrete_state(new_state)\n",
    "        if render:\n",
    "            env.render(mode = \"rgb-array\") #show it\n",
    "        if not done:\n",
    "            max_future_q = np.max(q_table[new_discrete_state])\n",
    "            current_q = q_table[discrete_state + (action, )]\n",
    "\n",
    "            new_q = (1 - LEARNING_RATE) * current_q + LEARNING_RATE * (reward + DISCOUNT * max_future_q)\n",
    "            q_table[discrete_state + (action, )] = new_q\n",
    "        elif new_state[0]>=env.goal_position:\n",
    "            q_table[discrete_state + (action, )] = 0\n",
    "        \n",
    "        discrete_state = new_discrete_state\n",
    "env.close()\n"
   ]
  },
  {
   "cell_type": "code",
   "execution_count": null,
   "metadata": {},
   "outputs": [],
   "source": []
  }
 ],
 "metadata": {
  "language_info": {
   "codemirror_mode": {
    "name": "ipython",
    "version": 3
   },
   "file_extension": ".py",
   "mimetype": "text/x-python",
   "name": "python",
   "nbconvert_exporter": "python",
   "pygments_lexer": "ipython3",
   "version": "3.7.6-final"
  },
  "orig_nbformat": 2,
  "kernelspec": {
   "name": "python3",
   "display_name": "Python 3"
  }
 },
 "nbformat": 4,
 "nbformat_minor": 2
}